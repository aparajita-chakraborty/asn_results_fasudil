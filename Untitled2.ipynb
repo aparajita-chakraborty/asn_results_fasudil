{
 "cells": [
  {
   "cell_type": "code",
   "execution_count": 2,
   "id": "bfcfa580",
   "metadata": {},
   "outputs": [
    {
     "data": {
      "text/html": [
       "<style>.container { width:100% !important; }</style>"
      ],
      "text/plain": [
       "<IPython.core.display.HTML object>"
      ]
     },
     "metadata": {},
     "output_type": "display_data"
    }
   ],
   "source": [
    "from __future__ import print_function, division\n",
    "import mdtraj as md\n",
    "from mdtraj.utils import ensure_type\n",
    "from mdtraj.geometry import compute_distances, compute_angles\n",
    "from mdtraj.geometry import _geometry\n",
    "import os\n",
    "import sys\n",
    "import numpy as np\n",
    "import scipy \n",
    "from scipy import optimize\n",
    "from scipy.optimize import leastsq\n",
    "import matplotlib.pyplot as plt\n",
    "from matplotlib import colors\n",
    "import seaborn as sns\n",
    "import math\n",
    "import itertools \n",
    "import pickle\n",
    "from numpy import log2, zeros, mean, var, sum, loadtxt, arange, array, cumsum, dot, transpose, diagonal, floor\n",
    "from numpy.linalg import inv, lstsq\n",
    "import pyblock\n",
    "from mdtraj.geometry import _geometry\n",
    "from mdtraj.utils import ensure_type\n",
    "from mdtraj.geometry import compute_distances, compute_angles\n",
    "from scipy.stats import pearsonr\n",
    "import pyinform\n",
    "import matplotlib.ticker as ticker\n",
    "\n",
    "from IPython.display import display, HTML\n",
    "display(HTML(\"<style>.container { width:100% !important; }</style>\"))"
   ]
  },
  {
   "cell_type": "code",
   "execution_count": 3,
   "id": "5dbd2245",
   "metadata": {},
   "outputs": [],
   "source": [
    "rep0 = '/data/asn/biorxiv2021-5475823-no-water-glue/pro_lig.xtc'\n",
    "pdb='/data/asn/biorxiv2021-5475823-no-water-glue/last_frame.pdb'\n",
    "\n",
    "trj = md.load(rep0, top=pdb)\n",
    "trj.center_coordinates()\n",
    "top = trj.topology"
   ]
  },
  {
   "cell_type": "code",
   "execution_count": 4,
   "id": "98096a20",
   "metadata": {},
   "outputs": [],
   "source": [
    "dmat = np.load(\"/data/asn/tica/fasudil/dist/distance_matrix_full.npy\")"
   ]
  },
  {
   "cell_type": "code",
   "execution_count": 5,
   "id": "3efcdeec",
   "metadata": {},
   "outputs": [],
   "source": [
    "def diffusion_map(data, alpha):\n",
    "    dists = np.zeros((data.shape[0],data.shape[0]))\n",
    "    for i in range(dmat.shape[0]):\n",
    "        for j in range(i):\n",
    "            dists[i,j] = np.linalg.norm((data[i]-data[j]).flatten())\n",
    "            dists[j,i] = dists[i,j]\n",
    "    K = np.exp(-np.power(dists, 2)/alpha) #kernel over the frame to frame distance metric\n",
    "    d = K.sum(1) #normalize but also use in similar matrix argument as the change of basis\n",
    "    P = K*(1/d[:,None]) #apparent normalized and stochastic/transition matrix -- row stochastic\n",
    "    S = np.sqrt(1/d)[:,None]*K*np.sqrt(1/d) #similar matrix to P that has the same eigen values\n",
    "    #S is symmetric, so it has real eigen values \n",
    "    #decompose S\n",
    "    lam,v = np.linalg.eigh(S)\n",
    "    idx = lam.argsort()[::-1]\n",
    "    #sort the sectrum\n",
    "    lams = lam[idx]\n",
    "    vs = v[:,idx]\n",
    "    #transform the eigen vectors to the P basis (the stochstic matrix)\n",
    "    Pr = np.sqrt(1/d)[:,None]*vs\n",
    "    Pl = np.sqrt(d)[:,None]*vs\n",
    "    mapping = Pr*lams\n",
    "    L = (1/alpha)*(P-np.eye(len(P)))\n",
    "    return mapping, Pr, Pl, lams, P, K, S, L"
   ]
  },
  {
   "cell_type": "code",
   "execution_count": 8,
   "id": "5d768007",
   "metadata": {},
   "outputs": [],
   "source": [
    "#dmat = msmtool.distance_matrix(np.arange(1), np.arange(1,21), trj, \"inter\", \"residues\", periodic = True)[1]\n",
    "dmat = dmat[::100]"
   ]
  },
  {
   "cell_type": "code",
   "execution_count": 9,
   "id": "b19bbc26",
   "metadata": {},
   "outputs": [],
   "source": [
    "mapping, Pr,Pl, lams,P, K,S, L = diffusion_map(dmat, alpha = 3)"
   ]
  },
  {
   "cell_type": "code",
   "execution_count": null,
   "id": "b51e502e",
   "metadata": {},
   "outputs": [],
   "source": []
  }
 ],
 "metadata": {
  "kernelspec": {
   "display_name": "Python 3 (ipykernel)",
   "language": "python",
   "name": "python3"
  },
  "language_info": {
   "codemirror_mode": {
    "name": "ipython",
    "version": 3
   },
   "file_extension": ".py",
   "mimetype": "text/x-python",
   "name": "python",
   "nbconvert_exporter": "python",
   "pygments_lexer": "ipython3",
   "version": "3.10.6"
  }
 },
 "nbformat": 4,
 "nbformat_minor": 5
}
